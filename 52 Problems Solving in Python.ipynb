{
 "cells": [
  {
   "cell_type": "markdown",
   "metadata": {},
   "source": [
    "# Problem:- 01\n",
    "Find the Even and Odd numbers and the example is given bellow,\n",
    "<table style=\"width:100%\">\n",
    "  <tr>\n",
    "    <th>Input</th>\n",
    "    <th>Output</th>\n",
    "  </tr>\n",
    "  <tr>\n",
    "    <td>3</td>\n",
    "    <td></td>\n",
    "  </tr>\n",
    "  <tr>\n",
    "  \t<td>100</td>\n",
    "    <td>EVEN</td>\n",
    "  </tr>\n",
    "  <tr>\n",
    "  \t<td>0</td>\n",
    "    <td>EVEN</td>\n",
    "  </tr>\n",
    "  <tr>\n",
    "  \t<td>1111</td>\n",
    "    <td>ODD</td>\n",
    "  </tr>\n",
    "</table>"
   ]
  },
  {
   "cell_type": "code",
   "execution_count": 1,
   "metadata": {},
   "outputs": [
    {
     "name": "stdout",
     "output_type": "stream",
     "text": [
      "Enter the total number of Loop: 3\n",
      "100\n",
      "even\n",
      "0\n",
      "even\n",
      "1111\n",
      "odd\n"
     ]
    }
   ],
   "source": [
    "T = int(input(\"Enter the total number of Loop: \"))\n",
    "for i in range(T):\n",
    "    n = int(input())\n",
    "    if n%2==0:\n",
    "        print(\"even\")\n",
    "    else:\n",
    "        print(\"odd\")"
   ]
  },
  {
   "cell_type": "code",
   "execution_count": 2,
   "metadata": {},
   "outputs": [
    {
     "name": "stdout",
     "output_type": "stream",
     "text": [
      "3\n",
      "100\n",
      "even\n",
      "0\n",
      "even\n",
      "1111\n",
      "odd\n"
     ]
    }
   ],
   "source": [
    "T = int(input())\n",
    "i = 0\n",
    "while i < T:\n",
    "    n = int(input())\n",
    "    if n%2==0:\n",
    "        print(\"even\")\n",
    "    else:\n",
    "        print(\"odd\")\n",
    "    i+=1"
   ]
  },
  {
   "cell_type": "code",
   "execution_count": 3,
   "metadata": {},
   "outputs": [
    {
     "name": "stdout",
     "output_type": "stream",
     "text": [
      "3\n",
      "100\n",
      "even\n",
      "0\n",
      "even\n",
      "1111\n",
      "odd\n"
     ]
    }
   ],
   "source": [
    "T = int(input())\n",
    "for i in range(T):\n",
    "    n = int(input())\n",
    "    if n%2==0:\n",
    "        print(\"even\")\n",
    "    else:\n",
    "        print(\"odd\")"
   ]
  },
  {
   "cell_type": "code",
   "execution_count": null,
   "metadata": {},
   "outputs": [],
   "source": []
  },
  {
   "cell_type": "code",
   "execution_count": null,
   "metadata": {},
   "outputs": [],
   "source": []
  }
 ],
 "metadata": {
  "kernelspec": {
   "display_name": "Python 3",
   "language": "python",
   "name": "python3"
  },
  "language_info": {
   "codemirror_mode": {
    "name": "ipython",
    "version": 3
   },
   "file_extension": ".py",
   "mimetype": "text/x-python",
   "name": "python",
   "nbconvert_exporter": "python",
   "pygments_lexer": "ipython3",
   "version": "3.8.3"
  }
 },
 "nbformat": 4,
 "nbformat_minor": 4
}
